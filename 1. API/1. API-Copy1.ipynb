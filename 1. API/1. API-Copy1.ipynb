{
 "cells": [
  {
   "cell_type": "markdown",
   "id": "d6c2b2a5-003b-4dae-a038-2e037cdf5646",
   "metadata": {},
   "source": [
    "### Импорт библиотек"
   ]
  },
  {
   "cell_type": "code",
   "execution_count": 3,
   "id": "b03a25d9-92ae-45e3-8c9b-62a51ecf5bbc",
   "metadata": {},
   "outputs": [],
   "source": [
    "from dotenv import load_dotenv\n",
    "import openai # pip install openai\n",
    "import os"
   ]
  },
  {
   "cell_type": "code",
   "execution_count": 4,
   "id": "0490c29d-1734-4efa-8b37-80177ef51473",
   "metadata": {},
   "outputs": [],
   "source": [
    "load_dotenv()\n",
    "openai.api_key =  os.getenv('OPENAI_API_KEY')# ваш ключ в VseGPT после регистрации\n",
    "openai.base_url = \"https://api.vsegpt.ru/v1/\""
   ]
  },
  {
   "cell_type": "code",
   "execution_count": 5,
   "id": "c25d13cd-bf1b-4de8-997d-bc67a8bcf61d",
   "metadata": {},
   "outputs": [],
   "source": [
    "prompt = \"Напиши код, который выводит на экран рисунок цветка - Лилия.\"\n",
    "\n",
    "messages = []\n",
    "messages.append({\"role\": \"user\", \"content\": prompt})"
   ]
  },
  {
   "cell_type": "code",
   "execution_count": 21,
   "id": "c3f0b7ec-6d2e-4472-b7e8-9a3e199e29ea",
   "metadata": {},
   "outputs": [],
   "source": [
    "prompt = \"Напиши программу, которая реализует игру - Жизнь. Поправь код, чтобы Жизнь развивалась сама собой, а не по нажатию клавиши. Исправь ошибку, параметр c - не может быть больше 100\"\n",
    "\n",
    "messages = []\n",
    "messages.append({\"role\": \"user\", \"content\": prompt})"
   ]
  },
  {
   "cell_type": "code",
   "execution_count": 22,
   "id": "ff95d555-d1e6-48d0-8f70-e790659396e1",
   "metadata": {},
   "outputs": [
    {
     "name": "stdout",
     "output_type": "stream",
     "text": [
      "Response: Для реализации игры \"Жизнь\" нам потребуется создать программу, которая будет обновлять состояние игрового поля на каждый такт, без необходимости нажимать на кнопку. Также, нам нужно будет исправить ошибку, убедившись, что параметр \"c\" не превышает 100.\n",
      "\n",
      "Ниже приведен исправленный код для игры \"Жизнь\":\n",
      "\n",
      "```python\n",
      "import time\n",
      "\n",
      "def print_board(board):\n",
      "    for row in board:\n",
      "        print(\" \".join(str(cell) for cell in row))\n",
      "\n",
      "def count_neighbors(board, x, y):\n",
      "    count = 0\n",
      "    for dx in [-1, 0, 1]:\n",
      "        for dy in [-1, 0, 1]:\n",
      "            if dx == 0 and dy == 0:\n",
      "                continue\n",
      "            nx, ny = x + dx, y + dy\n",
      "            if 0 <= nx < len(board) and 0 <= ny < len(board[0]):\n",
      "                count += board[nx][ny]\n",
      "    return count\n",
      "\n",
      "def next_generation(board):\n",
      "    new_board = [[0]*len(board[0]) for _ in range(len(board))]\n",
      "    for x in range(len(board)):\n",
      "        for y in range(len(board[0])):\n",
      "            neighbors = count_neighbors(board, x, y)\n",
      "            if board[x][y] == 1:\n",
      "                if neighbors < 2 or neighbors > 3:\n",
      "                    new_board[x][y] = 0\n",
      "                else:\n",
      "                    new_board[x][y] = 1\n",
      "            else:\n",
      "                if neighbors == 3:\n",
      "                    new_board[x][y] = 1\n",
      "                else:\n",
      "                    new_board[x][y] = 0\n",
      "    return new_board\n",
      "\n",
      "def game_of_life():\n",
      "    board = [\n",
      "        [0, 0, 0, 0, 0],\n",
      "        [0, 0, 1, 0, 0],\n",
      "        [0, 1, 1, 0, 0],\n",
      "        [0, 0, 0, 0, 0],\n",
      "        [0, 0, 0, 0, 0]\n",
      "    ]\n",
      "\n",
      "    while True:\n",
      "        print_board(board)\n",
      "        time.sleep(1)\n",
      "        board = next_generation(board)\n",
      "\n",
      "game_of_life()\n",
      "```\n",
      "\n",
      "В этом коде, мы используем функцию `time.sleep(1)`, чтобы вставить паузу в один секунду между каждой итерацией игры. Это позволяет игре развиваться сама по себе без необходимости нажимать на кнопку.\n",
      "\n",
      "Кроме того, условие `if dx == 0 and dy == 0:` в функции `count_neighbors` предотвращает подсчет клеток самой себя как соседа.\n",
      "\n",
      "Таким образом, эти исправления позволяют нашей программе правильно реализовать игру \"Жизнь\".\n"
     ]
    }
   ],
   "source": [
    "response_big = openai.chat.completions.create(\n",
    "    model=\"phind/phind-codellama-34b\",\n",
    "    messages=messages,\n",
    "    temperature=0.7,\n",
    "    n=1,\n",
    "    max_tokens=int(len(prompt) * 20),\n",
    ")\n",
    "\n",
    "response = response_big.choices[0].message.content\n",
    "print(\"Response:\",response)"
   ]
  },
  {
   "cell_type": "code",
   "execution_count": null,
   "id": "23e3a8da-ca27-43c2-9ad0-f44bbfff34c9",
   "metadata": {},
   "outputs": [],
   "source": []
  }
 ],
 "metadata": {
  "kernelspec": {
   "display_name": "Python 3 (ipykernel)",
   "language": "python",
   "name": "python3"
  },
  "language_info": {
   "codemirror_mode": {
    "name": "ipython",
    "version": 3
   },
   "file_extension": ".py",
   "mimetype": "text/x-python",
   "name": "python",
   "nbconvert_exporter": "python",
   "pygments_lexer": "ipython3",
   "version": "3.11.7"
  }
 },
 "nbformat": 4,
 "nbformat_minor": 5
}
