{
 "cells": [
  {
   "cell_type": "markdown",
   "id": "0a15feab-8eb5-4ba8-a382-c643d0d87fbd",
   "metadata": {},
   "source": [
    "# Домашнее задание №1: будут вопросы."
   ]
  },
  {
   "cell_type": "markdown",
   "id": "5cddd7d2-75f1-48a1-90b3-787b8a103ca0",
   "metadata": {},
   "source": [
    "Попробуйте решить какую-либо простую задачу на русскоязычных текстах с помощью LLM. Например, разметить/суммаризировать/перевести несколько текстов. Но важно сделать это не в веб-интерфейсе, а программным способом, вызвав то или иное API (две опции ниже): \n",
    "\n",
    "    1) Можете использовать GigaChat API (насколько я знаю, им можно бесплатно пользоваться физлицам, но есть лимиты). https://developers.sber.ru/portal/products/gigachat-api\n",
    "\n",
    "    2) Вместо использования гигачат-АПИ можете зарегистрироваться на VseGPT: https://www.vsegpt.ru/ и попробовать различные зарубежные модели (будет стоить некоторых денег, от 250 рублей нужно положить на баланс, насколько помню). Рекомендую, например, модель Claude 3 Haiku - дёшево и сердито (около 50 копеек за вызов модели, если входной текст не очень большой). \n",
    "\n",
    "Все необходимые инструкции по работе с АПИ есть по ссылкам выше. От вас - питоновский скрипт или ноутбук на Google Colab с вызовом модели по АПИ. Чуть позже я расскажу, куда вы можете переслать выполненное домашнее задание."
   ]
  },
  {
   "cell_type": "markdown",
   "id": "880756e9-6cf7-434f-93bd-ce5e407a8cab",
   "metadata": {},
   "source": [
    "# Выполнение задания"
   ]
  },
  {
   "cell_type": "markdown",
   "id": "b4ac3617-1749-442b-ac56-35343e84422d",
   "metadata": {},
   "source": [
    "### Установка пакетов"
   ]
  },
  {
   "cell_type": "code",
   "execution_count": 2,
   "id": "a17003eb-254e-4744-8ec2-beafcdb535a5",
   "metadata": {},
   "outputs": [
    {
     "name": "stdout",
     "output_type": "stream",
     "text": [
      "Collecting openaiNote: you may need to restart the kernel to use updated packages.\n",
      "\n",
      "  Downloading openai-1.16.2-py3-none-any.whl.metadata (21 kB)\n",
      "Requirement already satisfied: anyio<5,>=3.5.0 in c:\\users\\evseevga\\appdata\\local\\anaconda3\\lib\\site-packages (from openai) (4.2.0)\n",
      "Requirement already satisfied: distro<2,>=1.7.0 in c:\\users\\evseevga\\appdata\\local\\anaconda3\\lib\\site-packages (from openai) (1.8.0)\n",
      "Collecting httpx<1,>=0.23.0 (from openai)\n",
      "  Downloading httpx-0.27.0-py3-none-any.whl.metadata (7.2 kB)\n",
      "Requirement already satisfied: pydantic<3,>=1.9.0 in c:\\users\\evseevga\\appdata\\local\\anaconda3\\lib\\site-packages (from openai) (1.10.12)\n",
      "Requirement already satisfied: sniffio in c:\\users\\evseevga\\appdata\\local\\anaconda3\\lib\\site-packages (from openai) (1.3.0)\n",
      "Requirement already satisfied: tqdm>4 in c:\\users\\evseevga\\appdata\\local\\anaconda3\\lib\\site-packages (from openai) (4.65.0)\n",
      "Requirement already satisfied: typing-extensions<5,>=4.7 in c:\\users\\evseevga\\appdata\\local\\anaconda3\\lib\\site-packages (from openai) (4.9.0)\n",
      "Requirement already satisfied: idna>=2.8 in c:\\users\\evseevga\\appdata\\local\\anaconda3\\lib\\site-packages (from anyio<5,>=3.5.0->openai) (3.4)\n",
      "Requirement already satisfied: certifi in c:\\users\\evseevga\\appdata\\local\\anaconda3\\lib\\site-packages (from httpx<1,>=0.23.0->openai) (2024.2.2)\n",
      "Collecting httpcore==1.* (from httpx<1,>=0.23.0->openai)\n",
      "  Downloading httpcore-1.0.5-py3-none-any.whl.metadata (20 kB)\n",
      "Requirement already satisfied: h11<0.15,>=0.13 in c:\\users\\evseevga\\appdata\\local\\anaconda3\\lib\\site-packages (from httpcore==1.*->httpx<1,>=0.23.0->openai) (0.14.0)\n",
      "Requirement already satisfied: colorama in c:\\users\\evseevga\\appdata\\local\\anaconda3\\lib\\site-packages (from tqdm>4->openai) (0.4.6)\n",
      "Downloading openai-1.16.2-py3-none-any.whl (267 kB)\n",
      "   ---------------------------------------- 0.0/267.1 kB ? eta -:--:--\n",
      "   ---------------------------------------- 267.1/267.1 kB 8.0 MB/s eta 0:00:00\n",
      "Downloading httpx-0.27.0-py3-none-any.whl (75 kB)\n",
      "   ---------------------------------------- 0.0/75.6 kB ? eta -:--:--\n",
      "   ---------------------------------------- 75.6/75.6 kB 4.4 MB/s eta 0:00:00\n",
      "Downloading httpcore-1.0.5-py3-none-any.whl (77 kB)\n",
      "   ---------------------------------------- 0.0/77.9 kB ? eta -:--:--\n",
      "   ---------------------------------------- 77.9/77.9 kB 2.2 MB/s eta 0:00:00\n",
      "Installing collected packages: httpcore, httpx, openai\n",
      "Successfully installed httpcore-1.0.5 httpx-0.27.0 openai-1.16.2\n"
     ]
    },
    {
     "name": "stderr",
     "output_type": "stream",
     "text": [
      "DEPRECATION: textract 1.6.5 has a non-standard dependency specifier extract-msg<=0.29.*. pip 24.0 will enforce this behaviour change. A possible replacement is to upgrade to a newer version of textract or contact the author to suggest that they release a version with a conforming dependency specifiers. Discussion can be found at https://github.com/pypa/pip/issues/12063\n"
     ]
    }
   ],
   "source": [
    "pip install openai"
   ]
  },
  {
   "cell_type": "markdown",
   "id": "d6c2b2a5-003b-4dae-a038-2e037cdf5646",
   "metadata": {},
   "source": [
    "### Импорт библиотек"
   ]
  },
  {
   "cell_type": "code",
   "execution_count": 18,
   "id": "b03a25d9-92ae-45e3-8c9b-62a51ecf5bbc",
   "metadata": {},
   "outputs": [],
   "source": [
    "from dotenv import load_dotenv\n",
    "import openai # pip install openai\n",
    "import os \n",
    "import docx #pip install python-docx"
   ]
  },
  {
   "cell_type": "markdown",
   "id": "956071e8-c9ea-4950-988d-748c76b7297d",
   "metadata": {},
   "source": [
    "### API ключ и ссылка для обращения к модели"
   ]
  },
  {
   "cell_type": "code",
   "execution_count": 19,
   "id": "0490c29d-1734-4efa-8b37-80177ef51473",
   "metadata": {},
   "outputs": [],
   "source": [
    "load_dotenv()\n",
    "openai.api_key =  os.getenv('OPENAI_API_KEY')# ваш ключ в VseGPT после регистрации\n",
    "openai.base_url = \"https://api.vsegpt.ru/v1/\""
   ]
  },
  {
   "cell_type": "markdown",
   "id": "5f20b73f-f152-4f8e-bc74-9a58acc194f5",
   "metadata": {},
   "source": [
    "### Загрузка исходного текста для работы"
   ]
  },
  {
   "cell_type": "code",
   "execution_count": 20,
   "id": "10379df7-7b5a-46dd-8f24-1cd821cbcb2d",
   "metadata": {},
   "outputs": [],
   "source": [
    "def getText(filename):\n",
    "    doc = docx.Document(filename)\n",
    "    fullText = []\n",
    "    for para in doc.paragraphs:\n",
    "        fullText.append(para.text)\n",
    "    return '\\n'.join(fullText)"
   ]
  },
  {
   "cell_type": "code",
   "execution_count": 21,
   "id": "9e6ee63f-6c74-4622-9e27-e0233eecebce",
   "metadata": {},
   "outputs": [],
   "source": [
    "source_text = getText(r\"Source_Text.docx\")"
   ]
  },
  {
   "cell_type": "markdown",
   "id": "d0fc2273-c348-4759-bfdc-aa6156799859",
   "metadata": {},
   "source": [
    "## Суммаризация текста"
   ]
  },
  {
   "cell_type": "markdown",
   "id": "fe4ef30c-29a1-41fa-84f9-5f5e8602ae79",
   "metadata": {},
   "source": [
    "### Составление промта"
   ]
  },
  {
   "cell_type": "code",
   "execution_count": 25,
   "id": "cd9f73f5-1397-4c3d-8175-83cc02fbf5b8",
   "metadata": {},
   "outputs": [],
   "source": [
    "prompt = \"Краткое изложение на русском языке текста. Текст: \"+ source_text\n",
    "\n",
    "messages = []\n",
    "messages.append({\"role\": \"user\", \"content\": prompt})"
   ]
  },
  {
   "cell_type": "markdown",
   "id": "a9501e55-e027-4f16-990f-a04c96ea5b19",
   "metadata": {},
   "source": [
    "**Отправим простой запрос модели без изменения параметров генерации текста:**"
   ]
  },
  {
   "cell_type": "code",
   "execution_count": 22,
   "id": "f8ad8d96-905f-46ba-9a93-713c26e3ec7c",
   "metadata": {},
   "outputs": [
    {
     "name": "stdout",
     "output_type": "stream",
     "text": [
      "Response: Вот краткое изложение на русском языке:\n",
      "\n",
      "Москва - столица России, известная своей архитектурой и историческими памятниками. Несмотря на пожары, уничтожившие многие древние сооружения, до наших дней сохранились фрагменты Китайгородской стены и стены Белого города. Главные достопримечательности Москвы расположены в центре города. Большинство туристов начинают знакомство с Москвой с посещения Кремля, где находятся знаменитые соборы, дворцы и башни. Особого внимания заслуживают Оружейная палата и колокольня Ивана Великого. Среди жемчужин Москвы - храм Христа Спасителя и Третьяковская галерея с уникальной коллекцией русской живописи.\n"
     ]
    }
   ],
   "source": [
    "response_big = openai.chat.completions.create(\n",
    "    model=\"anthropic/claude-3-haiku\",\n",
    "    messages=messages,\n",
    "    temperature=0.7,\n",
    "    n=1,\n",
    "    max_tokens=int(len(prompt) * 1.5),\n",
    ")\n",
    "\n",
    "response = response_big.choices[0].message.content\n",
    "print(\"Response:\",response)"
   ]
  },
  {
   "cell_type": "markdown",
   "id": "ed8a90eb-c563-4b4a-993a-93c5845c15f4",
   "metadata": {},
   "source": [
    "**Теперь изменим параметры генерации, чтобы посмотреть как изменится результат. Уберем разнообразие ответа модели (выбор только наиболее вероятных токенов) изменив температуру:**"
   ]
  },
  {
   "cell_type": "code",
   "execution_count": 23,
   "id": "770b69d0-35b7-4a29-98ff-ede13ba0cc8a",
   "metadata": {},
   "outputs": [
    {
     "name": "stdout",
     "output_type": "stream",
     "text": [
      "Response: Вот краткое изложение текста на русском языке:\n",
      "\n",
      "Москва - столица России, всегда занимавшая особое место среди мировых мегаполисов. Несмотря на пожары, уничтожившие древние сооружения, в Москве сохранились фрагменты старинных стен и множество более поздних исторических памятников. \n",
      "\n",
      "Главные достопримечательности Москвы сосредоточены в ее центре. Большинство туристов начинают знакомство с Москвой с посещения Кремля - комплекса храмов, дворцов и башен, известного во всем мире. Также стоит посетить Оружейную палату и колокольню Ивана Великого.\n",
      "\n",
      "Среди главных достопримечательностей Москвы - храм Христа Спасителя и Третьяковская галерея, где представлена уникальная коллекция русского изобразительного искусства X-XX веков.\n"
     ]
    }
   ],
   "source": [
    "response_big = openai.chat.completions.create(\n",
    "    model=\"anthropic/claude-3-haiku\",\n",
    "    messages=messages,\n",
    "    temperature=0,\n",
    "    n=1,\n",
    "    max_tokens=int(len(prompt) * 1.5),\n",
    ")\n",
    "\n",
    "response = response_big.choices[0].message.content\n",
    "print(\"Response:\",response)"
   ]
  },
  {
   "cell_type": "markdown",
   "id": "a4f936b4-c93e-404e-9156-a3a43742e817",
   "metadata": {},
   "source": [
    "**Теперь хочется получить более короткую выжимку из текста, для этого изменим параметр максимального кол-ва токенов:**"
   ]
  },
  {
   "cell_type": "code",
   "execution_count": 29,
   "id": "2da7d8d7-9679-4312-a69c-4ce8cd55657f",
   "metadata": {},
   "outputs": [
    {
     "name": "stdout",
     "output_type": "stream",
     "text": [
      "Response: Вот краткое изложение текста на русском языке:\n",
      "\n",
      "Москва - столица России, известная своими белокаменными зданиями и золотыми куполами. Несмотря на то, что многие древние сооружения были утрачены в пожарах, до наших дней сохранились фрагменты Китайгородской стены и стена Белого города. Главные достопримечательности Москвы сосредоточены в ее историческом центре. Большинство туристов начинают знакомство с Москвой с Кремля, где расположены знаменитые храмы, дворцы и башни. Особого внимания заслуживают Оружейная палата и колокольня Ивана Великого. Среди главных гордостей Москвы - храм Христа Спасителя и Третьяковская галерея с уникальной коллекцией русской живописи.\n"
     ]
    }
   ],
   "source": [
    "response_big = openai.chat.completions.create(\n",
    "    model=\"anthropic/claude-3-haiku\",\n",
    "    messages=messages,\n",
    "    temperature=0.5,\n",
    "    n=1,\n",
    "    max_tokens=int(len(prompt) * 0.3),\n",
    ")\n",
    "\n",
    "response = response_big.choices[0].message.content\n",
    "print(\"Response:\",response)"
   ]
  },
  {
   "cell_type": "markdown",
   "id": "54b2e07a-4c1b-44f6-a879-eeb3e1c3827f",
   "metadata": {},
   "source": [
    "**Результат не изменился :c (Параметр max_tokens отвечает за то, какой длинны ты увидишь ответ уже после генерации ответа моделью.)**"
   ]
  },
  {
   "cell_type": "markdown",
   "id": "e31345d8-768b-4099-ad8f-86ceccb8f0cc",
   "metadata": {},
   "source": [
    "## Генерация текста"
   ]
  },
  {
   "cell_type": "markdown",
   "id": "c61a142c-6623-4657-8964-2767cc82def4",
   "metadata": {},
   "source": [
    "### Составление промта"
   ]
  },
  {
   "cell_type": "code",
   "execution_count": 31,
   "id": "1c9e5380-0023-43e0-93d8-60319bd67a29",
   "metadata": {},
   "outputs": [],
   "source": [
    "prompt = \"Расскажи про Эйфелеву Башню.\"\n",
    "\n",
    "messages = []\n",
    "messages.append({\"role\": \"user\", \"content\": prompt})"
   ]
  },
  {
   "cell_type": "markdown",
   "id": "11f73d65-8594-4a18-8a89-47c431d82ffe",
   "metadata": {},
   "source": [
    "**Отправим наш запрос:**"
   ]
  },
  {
   "cell_type": "code",
   "execution_count": 32,
   "id": "11babf0e-8d7c-434a-a4c8-b5fd97e3111b",
   "metadata": {},
   "outputs": [
    {
     "name": "stdout",
     "output_type": "stream",
     "text": [
      "Response: Вот основные факты об Эйфелевой башне:\n",
      "\n",
      "- Эйфелева башня была построена в 1889 году к Всемир\n"
     ]
    }
   ],
   "source": [
    "response_big = openai.chat.completions.create(\n",
    "    model=\"anthropic/claude-3-haiku\",\n",
    "    messages=messages,\n",
    "    temperature=0.7,\n",
    "    n=1,\n",
    "    max_tokens=int(len(prompt) * 1.5),\n",
    ")\n",
    "\n",
    "response = response_big.choices[0].message.content\n",
    "print(\"Response:\",response)"
   ]
  },
  {
   "cell_type": "markdown",
   "id": "079fb31d-644b-4aac-a2ee-e4e13a5d9e06",
   "metadata": {},
   "source": [
    "**Из-за маленького параметра max_tokens не удалось получить внятный ответ. Изменим параметр max_tokens:**"
   ]
  },
  {
   "cell_type": "code",
   "execution_count": 33,
   "id": "4486a4bd-b83d-4340-86c0-57689c3c2eb4",
   "metadata": {},
   "outputs": [
    {
     "name": "stdout",
     "output_type": "stream",
     "text": [
      "Response: Вот несколько интересных фактов об Эйфелевой башне:\n",
      "\n",
      "1. Эйфелева башня была построена в 1889 году для Всемирной выставки в Париже. Она была спроектирована инженером Гюставом Эйфелем.\n",
      "\n",
      "2. Высота Эйфелевой башни составляет 324 метра (с антенной на вершине). Это самое высокое здание в Париже.\n",
      "\n",
      "3. Башня была построена из железа и состоит из 18038 деталей, скрепленных 2,5 миллионами заклепок. Ее вес составляет 10 100 тонн.\n",
      "\n",
      "4. Во время Первой мировой войны на вершине башни была установлена радиостанция, которая перехватывала немецкие сообщения.\n",
      "\n",
      "5. Эйфелева башня является одним из самых узнаваемых символов Парижа и Франции в целом. Ежегодно ее посещают более 6 миллионов туристов, что делает ее самой посещаемой платной достопримечательностью в мире.\n",
      "\n",
      "6. Каждые 7 лет башня проходит полную реставрацию, чтобы поддерживать ее в хорошем состоянии. Последняя реставрация завершилась в 2019 году.\n",
      "\n",
      "7. Подъем на вершину башни осуществляется на лифтах, которые могут поднять до 300 человек одновременно.\n",
      "\n",
      "Это лишь некоторые интересные факты об этом знаменитом сооружении. Эйфелева башня по праву считается одним из самых знаковых архитектурных памятников мира.\n"
     ]
    }
   ],
   "source": [
    "response_big = openai.chat.completions.create(\n",
    "    model=\"anthropic/claude-3-haiku\",\n",
    "    messages=messages,\n",
    "    temperature=0.7,\n",
    "    n=1,\n",
    "    max_tokens=int(len(prompt) * 20),\n",
    ")\n",
    "\n",
    "response = response_big.choices[0].message.content\n",
    "print(\"Response:\",response)"
   ]
  },
  {
   "cell_type": "markdown",
   "id": "60da454b-f4c9-4350-ba8a-e673861a0e33",
   "metadata": {},
   "source": [
    "**Уже лучше.**"
   ]
  },
  {
   "cell_type": "markdown",
   "id": "8bbf8192-a317-430d-944f-52b4834b8471",
   "metadata": {},
   "source": [
    "## Генерация кода"
   ]
  },
  {
   "cell_type": "markdown",
   "id": "a839ac82-8a51-48fe-9c32-2b475254314b",
   "metadata": {},
   "source": [
    "**Попробуем сгененрировать простенький код с помощью модели:** *Phind: CodeLlama 34B v2*"
   ]
  },
  {
   "cell_type": "markdown",
   "id": "e0717da8-28cf-43cf-8e79-8e67ee9d8324",
   "metadata": {},
   "source": [
    "### Составление промта"
   ]
  },
  {
   "cell_type": "code",
   "execution_count": 34,
   "id": "c25d13cd-bf1b-4de8-997d-bc67a8bcf61d",
   "metadata": {},
   "outputs": [],
   "source": [
    "prompt = \"Напиши код, который выводит на экран рисунок цветка - Лилия.\"\n",
    "\n",
    "messages = []\n",
    "messages.append({\"role\": \"user\", \"content\": prompt})"
   ]
  },
  {
   "cell_type": "markdown",
   "id": "9e1a206d-827f-4318-9f24-79be33b9c80e",
   "metadata": {},
   "source": [
    "**Отправим наш запрос:**"
   ]
  },
  {
   "cell_type": "code",
   "execution_count": 35,
   "id": "80e088a7-3b61-4497-8e77-6d133f23d171",
   "metadata": {},
   "outputs": [
    {
     "name": "stdout",
     "output_type": "stream",
     "text": [
      "Response: Дорогой пользователь,\n",
      "\n",
      "Ваш запрос включает в себя создание изображения цветка - Лилии. Однако, как искусственный интеллект, моя основная функция - обработка текста и предоставление информации. Я не могу напрямую выводить изображения на экран. \n",
      "\n",
      "Однако, я могу предоставить вам простой пример кода на Python, который использует библиотеку matplotlib для создания простого изображения цветка-лилии. Для использования этого кода, убедитесь, что у вас установлена библиотека matplotlib. \n",
      "\n",
      "```python\n",
      "import matplotlib.pyplot as plt\n",
      "import numpy as np\n",
      "\n",
      "# Создаем линию для лепестков\n",
      "angle = np.linspace(0, 2*np.pi, 100)\n",
      "r = np.sin(angle)\n",
      "x1 = r * np.cos(angle)\n",
      "y1 = r * np.sin(angle)\n",
      "\n",
      "# Создаем линию для чашечки\n",
      "r2 = np.cos(angle)\n",
      "x2 = r2 * np.cos(angle)\n",
      "y2 = r2 * np.sin(angle)\n",
      "\n",
      "plt.figure(figsize=(6,6))\n",
      "plt.axes().set_aspect('equal')\n",
      "plt.plot(x1, y1, color='red')\n",
      "plt.plot(x2, y2, color='green')\n",
      "plt.plot(0, 0, 'ro')\n",
      "plt.xlim(-1.5, 1.5)\n",
      "plt.ylim(-1.5, 1.5)\n",
      "plt.title('Лилия')\n",
      "plt.show()\n",
      "```\n",
      "\n",
      "Этот код создаст простое изображение лилии, состоящее из зеленых лепестков и красного около. Не забудьте запустить код в среде с установленной библиотекой matplotlib, например, Jupyter Notebook или Python IDLE. \n",
      "\n",
      "Если у вас есть другие вопросы или требования, пожалуйста, сообщите мне. Я рад помочь вам.\n"
     ]
    }
   ],
   "source": [
    "response_big = openai.chat.completions.create(\n",
    "    model=\"phind/phind-codellama-34b\",\n",
    "    messages=messages,\n",
    "    temperature=0.7,\n",
    "    n=1,\n",
    "    max_tokens=int(len(prompt) * 20),\n",
    ")\n",
    "\n",
    "response = response_big.choices[0].message.content\n",
    "print(\"Response:\",response)"
   ]
  },
  {
   "cell_type": "markdown",
   "id": "c68251eb-8fb1-4bde-b1a8-b233ef906a69",
   "metadata": {},
   "source": [
    "**Опробуем этот код**"
   ]
  },
  {
   "cell_type": "code",
   "execution_count": 36,
   "id": "a0723991-a683-4bc4-83a1-3e43137ceb45",
   "metadata": {},
   "outputs": [
    {
     "data": {
      "image/png": "[encoded data removed]",
      "text/plain": [
       "<Figure size 600x600 with 1 Axes>"
      ]
     },
     "metadata": {},
     "output_type": "display_data"
    }
   ],
   "source": [
    "import matplotlib.pyplot as plt\n",
    "import numpy as np\n",
    "\n",
    "# Создаем линию для лепестков\n",
    "angle = np.linspace(0, 2*np.pi, 100)\n",
    "r = np.sin(angle)\n",
    "x1 = r * np.cos(angle)\n",
    "y1 = r * np.sin(angle)\n",
    "\n",
    "# Создаем линию для чашечки\n",
    "r2 = np.cos(angle)\n",
    "x2 = r2 * np.cos(angle)\n",
    "y2 = r2 * np.sin(angle)\n",
    "\n",
    "plt.figure(figsize=(6,6))\n",
    "plt.axes().set_aspect('equal')\n",
    "plt.plot(x1, y1, color='red')\n",
    "plt.plot(x2, y2, color='green')\n",
    "plt.plot(0, 0, 'ro')\n",
    "plt.xlim(-1.5, 1.5)\n",
    "plt.ylim(-1.5, 1.5)\n",
    "plt.title('Лилия')\n",
    "plt.show()"
   ]
  },
  {
   "cell_type": "markdown",
   "id": "79c28578-0374-4c74-bc8e-e06cefa10013",
   "metadata": {},
   "source": [
    "**Не очень похоже на лилию. Упростим задачу: Пусть нарисует сердце.**"
   ]
  },
  {
   "cell_type": "code",
   "execution_count": 38,
   "id": "c3f0b7ec-6d2e-4472-b7e8-9a3e199e29ea",
   "metadata": {},
   "outputs": [],
   "source": [
    "prompt = \"Напиши код, который выводит на экран рисунок сердца.\"\n",
    "\n",
    "messages = []\n",
    "messages.append({\"role\": \"user\", \"content\": prompt})"
   ]
  },
  {
   "cell_type": "code",
   "execution_count": 39,
   "id": "ff95d555-d1e6-48d0-8f70-e790659396e1",
   "metadata": {},
   "outputs": [
    {
     "name": "stdout",
     "output_type": "stream",
     "text": [
      "Response: ```python\n",
      "import matplotlib.pyplot as plt\n",
      "import numpy as np\n",
      "\n",
      "def draw_heart(size):\n",
      "    t = np.linspace(0, 2*np.pi, 100)\n",
      "    x = size * (16 * np.sin(t)**3)\n",
      "    y = size * (13 * np.cos(t) - 5 * np.cos(2*t) - 2 * np.cos(3*t) - np.cos(4*t))\n",
      "\n",
      "    plt.figure(figsize=(6, 6))\n",
      "    plt.plot(x, y, 'r')\n",
      "    plt.plot(x, y, 'r', linewidth=2)\n",
      "    plt.axis('off')\n",
      "    plt.show()\n",
      "\n",
      "draw_heart(5)\n",
      "```\n",
      "\n",
      "This code uses the `matplotlib` library to draw a heart shape on the screen. The `draw_heart` function takes a single argument, `size`, which determines the size of the heart drawn. The heart is created using a combination of trigonometric functions and plotted using `matplotlib`.\n"
     ]
    }
   ],
   "source": [
    "response_big = openai.chat.completions.create(\n",
    "    model=\"phind/phind-codellama-34b\",\n",
    "    messages=messages,\n",
    "    temperature=0.7,\n",
    "    n=1,\n",
    "    max_tokens=int(len(prompt) * 20),\n",
    ")\n",
    "\n",
    "response = response_big.choices[0].message.content\n",
    "print(\"Response:\",response)"
   ]
  },
  {
   "cell_type": "markdown",
   "id": "54bcaf74-959a-4fea-907f-48ac551794c4",
   "metadata": {},
   "source": [
    "**Попробуем выполнить полученный код:**"
   ]
  },
  {
   "cell_type": "code",
   "execution_count": 40,
   "id": "9aca3b5f-9d45-43fd-a358-50d1c6d27e2d",
   "metadata": {},
   "outputs": [
    {
     "data": {
      "image/png": "[encoded data removed]",
      "text/plain": [
       "<Figure size 600x600 with 1 Axes>"
      ]
     },
     "metadata": {},
     "output_type": "display_data"
    }
   ],
   "source": [
    "import matplotlib.pyplot as plt\n",
    "import numpy as np\n",
    "\n",
    "def draw_heart(size):\n",
    "    t = np.linspace(0, 2*np.pi, 100)\n",
    "    x = size * (16 * np.sin(t)**3)\n",
    "    y = size * (13 * np.cos(t) - 5 * np.cos(2*t) - 2 * np.cos(3*t) - np.cos(4*t))\n",
    "\n",
    "    plt.figure(figsize=(6, 6))\n",
    "    plt.plot(x, y, 'r')\n",
    "    plt.plot(x, y, 'r', linewidth=2)\n",
    "    plt.axis('off')\n",
    "    plt.show()\n",
    "\n",
    "draw_heart(5)"
   ]
  },
  {
   "cell_type": "markdown",
   "id": "9bc89a6b-1cbf-4eb7-a51c-7d557e2682e7",
   "metadata": {},
   "source": [
    "**Получилось!**"
   ]
  }
 ],
 "metadata": {
  "kernelspec": {
   "display_name": "Python 3 (ipykernel)",
   "language": "python",
   "name": "python3"
  },
  "language_info": {
   "codemirror_mode": {
    "name": "ipython",
    "version": 3
   },
   "file_extension": ".py",
   "mimetype": "text/x-python",
   "name": "python",
   "nbconvert_exporter": "python",
   "pygments_lexer": "ipython3",
   "version": "3.11.7"
  }
 },
 "nbformat": 4,
 "nbformat_minor": 5
}
